{
 "cells": [
  {
   "cell_type": "raw",
   "id": "3cfc0dfb-1883-488b-aa7f-b184105c774c",
   "metadata": {},
   "source": [
    "Question-No.1"
   ]
  },
  {
   "cell_type": "raw",
   "id": "877c1070-1df1-4156-bd5c-514c04c8340a",
   "metadata": {},
   "source": [
    "Yes, there is a difference in the data types of the variables 'list_' and 'array_list'.\n",
    "1-The 'list_' variable contains a list of strings.\n",
    "2-The 'array_list' variable, on the other hand, contains a NumPy array created from the list_"
   ]
  },
  {
   "cell_type": "code",
   "execution_count": 8,
   "id": "1310b080-01a2-4225-bafe-892ba06feaf3",
   "metadata": {},
   "outputs": [
    {
     "data": {
      "text/plain": [
       "dtype('<U1')"
      ]
     },
     "execution_count": 8,
     "metadata": {},
     "output_type": "execute_result"
    }
   ],
   "source": [
    "import numpy as np\n",
    "list_ = [ '1' , '2' , '3' , '4' , '5' ]\n",
    "array_list = np.array(object = list_)\n",
    "type(list_)\n",
    "array_list.dtype"
   ]
  },
  {
   "cell_type": "raw",
   "id": "00dddc9f-0a94-4665-bc02-4426f0647819",
   "metadata": {},
   "source": [
    "Question-No.2"
   ]
  },
  {
   "cell_type": "code",
   "execution_count": 10,
   "id": "f1b78a8b-54c5-4048-94a7-299afb0098e0",
   "metadata": {},
   "outputs": [
    {
     "name": "stdout",
     "output_type": "stream",
     "text": [
      "Data types of elements in list_:\n",
      "<class 'str'>\n",
      "<class 'str'>\n",
      "<class 'str'>\n",
      "<class 'str'>\n",
      "<class 'str'>\n",
      "Data types of elements in array_list:\n",
      "<U1\n",
      "<U1\n",
      "<U1\n",
      "<U1\n",
      "<U1\n"
     ]
    }
   ],
   "source": [
    "import numpy as np\n",
    "list_ = ['1', '2', '3', '4', '5']\n",
    "array_list = np.array(object=list_)\n",
    "\n",
    "print(\"Data types of elements in list_:\")\n",
    "for element in list_:\n",
    "    print(type(element))\n",
    "\n",
    "print(\"Data types of elements in array_list:\")\n",
    "for element in array_list:\n",
    "    print(element.dtype)\n"
   ]
  },
  {
   "cell_type": "raw",
   "id": "83f82cc0-29ea-4e8e-b605-9e5fca6c3b8b",
   "metadata": {},
   "source": [
    "Question-No.3"
   ]
  },
  {
   "cell_type": "raw",
   "id": "acb2076c-f63d-4c7b-af78-a2250b706864",
   "metadata": {},
   "source": [
    "Yes, there will be a difference in the data types of the elements present in the variables list_ and array_list after the change you've made to array_list using the dtype=int argument. The elements in list_ are strings ('1', '2', '3', '4', '5'), while you're explicitly converting the elements in array_list to integers using dtype=int."
   ]
  },
  {
   "cell_type": "code",
   "execution_count": 11,
   "id": "5d78a48e-6060-49cd-9f7b-642d2249364e",
   "metadata": {},
   "outputs": [
    {
     "name": "stdout",
     "output_type": "stream",
     "text": [
      "Data types of elements in list_:\n",
      "<class 'str'>\n",
      "<class 'str'>\n",
      "<class 'str'>\n",
      "<class 'str'>\n",
      "<class 'str'>\n",
      "Data types of elements in array_list:\n",
      "<class 'numpy.int64'>\n",
      "<class 'numpy.int64'>\n",
      "<class 'numpy.int64'>\n",
      "<class 'numpy.int64'>\n",
      "<class 'numpy.int64'>\n"
     ]
    }
   ],
   "source": [
    "import numpy as np\n",
    "\n",
    "list_ = ['1', '2', '3', '4', '5']\n",
    "array_list = np.array(object=list_, dtype=int)\n",
    "\n",
    "print(\"Data types of elements in list_:\")\n",
    "for element in list_:\n",
    "    print(type(element))\n",
    "\n",
    "print(\"Data types of elements in array_list:\")\n",
    "for element in array_list:\n",
    "    print(type(element))\n"
   ]
  },
  {
   "cell_type": "raw",
   "id": "25a1e390-3968-49a5-b627-4f883069cf20",
   "metadata": {},
   "source": [
    "Question-No.4\n",
    "\n",
    "Given blow code is used for find the 'shape' and 'size' of the num_array"
   ]
  },
  {
   "cell_type": "code",
   "execution_count": 17,
   "id": "e4fbe2e0-441a-4071-a978-c4865942a609",
   "metadata": {},
   "outputs": [
    {
     "name": "stdout",
     "output_type": "stream",
     "text": [
      "The shape of num_array is:\n",
      "(2, 3)\n",
      "\n",
      " The size of num_array is:\n",
      "6\n"
     ]
    }
   ],
   "source": [
    "import numpy as np\n",
    "num_list = [ [ 1 , 2 , 3 ] , [ 4 , 5 , 6 ] ]\n",
    "num_array = np.array(object = num_list)\n",
    "\n",
    "print(\"The shape of num_array is:\")\n",
    "print(np.shape(num_array))\n",
    "\n",
    "print(\"\\n The size of num_array is:\")\n",
    "print(np.size(num_array))"
   ]
  },
  {
   "cell_type": "raw",
   "id": "6348a8e6-9a0c-415c-98c5-92b0ba841f0d",
   "metadata": {},
   "source": [
    "Question-No.5\n",
    "\n",
    "-->Here is the code for creating a matrix of 3*3 by using 'zeroes' function"
   ]
  },
  {
   "cell_type": "code",
   "execution_count": 24,
   "id": "1b61bb19-c33f-4e8a-a11e-d80c49e98c15",
   "metadata": {},
   "outputs": [
    {
     "name": "stdout",
     "output_type": "stream",
     "text": [
      "Zeros matrix of 3*3 is: \n",
      " [[0. 0. 0.]\n",
      " [0. 0. 0.]\n",
      " [0. 0. 0.]]\n"
     ]
    }
   ],
   "source": [
    "import numpy as np\n",
    "matrix = np.zeros((3,3))\n",
    "print(\"Zeros matrix of 3*3 is: \\n\" , matrix)"
   ]
  },
  {
   "cell_type": "raw",
   "id": "d3d87897-f196-4d9b-a838-eb7a5bc414ec",
   "metadata": {},
   "source": [
    "Question-No.6"
   ]
  },
  {
   "cell_type": "code",
   "execution_count": null,
   "id": "565224be-518f-4b0f-b9a3-dd084214b7d8",
   "metadata": {},
   "outputs": [],
   "source": []
  }
 ],
 "metadata": {
  "kernelspec": {
   "display_name": "Python 3 (ipykernel)",
   "language": "python",
   "name": "python3"
  },
  "language_info": {
   "codemirror_mode": {
    "name": "ipython",
    "version": 3
   },
   "file_extension": ".py",
   "mimetype": "text/x-python",
   "name": "python",
   "nbconvert_exporter": "python",
   "pygments_lexer": "ipython3",
   "version": "3.10.8"
  }
 },
 "nbformat": 4,
 "nbformat_minor": 5
}
